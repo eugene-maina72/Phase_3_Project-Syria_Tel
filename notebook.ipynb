{
 "cells": [
  {
   "cell_type": "markdown",
   "id": "fdf6b47c",
   "metadata": {},
   "source": [
    "# PHASE 3 PROJECT - SYRIA CUSTOMER CHURN."
   ]
  },
  {
   "cell_type": "markdown",
   "id": "ae0ad898",
   "metadata": {},
   "source": [
    "## OVERVIEW\n",
    "\n",
    "This project has been undertaken to determine how SyriaTel Company can predict if a customer will soon end their subscription to the telephone service."
   ]
  },
  {
   "cell_type": "markdown",
   "id": "2198fffa",
   "metadata": {},
   "source": [
    "### Business Problem and Stakeholders.\n",
    "\n",
    "The stakeholder will be SyriaTel as they assses whether they can determine that a customer will opt-out of their service soon and the predictors that they will opt out.Then I will construct a predictive model that will give recommendations as to how they can reduce their costs incurred by customers who do not stay very long.This could be from reducing capital expenditure or revenue expenditure on certain services they offer.\n",
    "\n",
    "Overall the main business questions to be answered are:\n",
    "\n",
    "1. What are the features or determinants of customer churn?\n",
    "2. What is the customer churn rate and how can it be improved upon based on the data?\n",
    "3. What is the core services they offer and can costs of other sevices be reduced in order to maximize the core service?"
   ]
  },
  {
   "cell_type": "markdown",
   "id": "7b30cea0",
   "metadata": {},
   "source": [
    "## DATA UNDERSTANDING"
   ]
  },
  {
   "cell_type": "markdown",
   "id": "e161b767",
   "metadata": {},
   "source": [
    "* First we need to import the necessary dependencies and then load the dataset to determine what we are dealing with.\n",
    "\n",
    "* The data set can be found on [Kaggle.com](https://www.kaggle.com/datasets/becksddf/churn-in-telecoms-dataset?resource=download)"
   ]
  },
  {
   "cell_type": "code",
   "execution_count": 17,
   "id": "7424f71d",
   "metadata": {},
   "outputs": [
    {
     "name": "stdout",
     "output_type": "stream",
     "text": [
      "Requirement already satisfied: imblearn in c:\\users\\eugene.maina\\appdata\\local\\anaconda3\\envs\\learn-env\\lib\\site-packages (0.0)\n",
      "Requirement already satisfied: imbalanced-learn in c:\\users\\eugene.maina\\appdata\\local\\anaconda3\\envs\\learn-env\\lib\\site-packages (from imblearn) (0.7.0)\n",
      "Requirement already satisfied: numpy>=1.13.3 in c:\\users\\eugene.maina\\appdata\\local\\anaconda3\\envs\\learn-env\\lib\\site-packages (from imbalanced-learn->imblearn) (1.22.0)\n",
      "Requirement already satisfied: scipy>=0.19.1 in c:\\users\\eugene.maina\\appdata\\local\\anaconda3\\envs\\learn-env\\lib\\site-packages (from imbalanced-learn->imblearn) (1.5.0)\n",
      "Requirement already satisfied: scikit-learn>=0.23 in c:\\users\\eugene.maina\\appdata\\local\\anaconda3\\envs\\learn-env\\lib\\site-packages (from imbalanced-learn->imblearn) (1.3.2)\n",
      "Requirement already satisfied: joblib>=0.11 in c:\\users\\eugene.maina\\appdata\\local\\anaconda3\\envs\\learn-env\\lib\\site-packages (from imbalanced-learn->imblearn) (1.4.2)\n",
      "Requirement already satisfied: threadpoolctl>=2.0.0 in c:\\users\\eugene.maina\\appdata\\local\\anaconda3\\envs\\learn-env\\lib\\site-packages (from scikit-learn>=0.23->imbalanced-learn->imblearn) (2.1.0)\n",
      "Note: you may need to restart the kernel to use updated packages.\n"
     ]
    }
   ],
   "source": [
    "# Importing the necessary dependencies.\n",
    "# Base dependencies.\n",
    "import pandas as pd\n",
    "import numpy as np\n",
    "import matplotlib.pyplot as plt\n",
    "import seaborn as sns\n",
    "import statsmodels.api as sm\n",
    "\n",
    "# Setting the style of the plots\n",
    "sns.set_style('darkgrid', {'axes.facecolor': '0.9'})\n",
    "\n",
    "# Machine learning dependencies\n",
    "from sklearn.preprocessing import OneHotEncoder, MinMaxScaler, StandardScaler\n",
    "from sklearn.feature_selection import RFE, RFECV\n",
    "from sklearn.model_selection import train_test_split, cross_val_score\n",
    "from sklearn.linear_model import LogisticRegression, LogisticRegressionCV\n",
    "from sklearn.metrics import classification_report, roc_curve, auc, confusion_matrix, ConfusionMatrixDisplay\n",
    "\n",
    "#Imbalancing dependencies\n",
    "%pip install imblearn\n",
    "from imblearn.over_sampling import SMOTE\n",
    "from imblearn.under_sampling import RandomUnderSampler\n"
   ]
  },
  {
   "cell_type": "code",
   "execution_count": 18,
   "id": "6c971978",
   "metadata": {},
   "outputs": [
    {
     "data": {
      "text/html": [
       "<div>\n",
       "<style scoped>\n",
       "    .dataframe tbody tr th:only-of-type {\n",
       "        vertical-align: middle;\n",
       "    }\n",
       "\n",
       "    .dataframe tbody tr th {\n",
       "        vertical-align: top;\n",
       "    }\n",
       "\n",
       "    .dataframe thead th {\n",
       "        text-align: right;\n",
       "    }\n",
       "</style>\n",
       "<table border=\"1\" class=\"dataframe\">\n",
       "  <thead>\n",
       "    <tr style=\"text-align: right;\">\n",
       "      <th></th>\n",
       "      <th>state</th>\n",
       "      <th>account length</th>\n",
       "      <th>area code</th>\n",
       "      <th>phone number</th>\n",
       "      <th>international plan</th>\n",
       "      <th>voice mail plan</th>\n",
       "      <th>number vmail messages</th>\n",
       "      <th>total day minutes</th>\n",
       "      <th>total day calls</th>\n",
       "      <th>total day charge</th>\n",
       "      <th>...</th>\n",
       "      <th>total eve calls</th>\n",
       "      <th>total eve charge</th>\n",
       "      <th>total night minutes</th>\n",
       "      <th>total night calls</th>\n",
       "      <th>total night charge</th>\n",
       "      <th>total intl minutes</th>\n",
       "      <th>total intl calls</th>\n",
       "      <th>total intl charge</th>\n",
       "      <th>customer service calls</th>\n",
       "      <th>churn</th>\n",
       "    </tr>\n",
       "  </thead>\n",
       "  <tbody>\n",
       "    <tr>\n",
       "      <th>0</th>\n",
       "      <td>KS</td>\n",
       "      <td>128</td>\n",
       "      <td>415</td>\n",
       "      <td>382-4657</td>\n",
       "      <td>no</td>\n",
       "      <td>yes</td>\n",
       "      <td>25</td>\n",
       "      <td>265.1</td>\n",
       "      <td>110</td>\n",
       "      <td>45.07</td>\n",
       "      <td>...</td>\n",
       "      <td>99</td>\n",
       "      <td>16.78</td>\n",
       "      <td>244.7</td>\n",
       "      <td>91</td>\n",
       "      <td>11.01</td>\n",
       "      <td>10.0</td>\n",
       "      <td>3</td>\n",
       "      <td>2.70</td>\n",
       "      <td>1</td>\n",
       "      <td>False</td>\n",
       "    </tr>\n",
       "    <tr>\n",
       "      <th>1</th>\n",
       "      <td>OH</td>\n",
       "      <td>107</td>\n",
       "      <td>415</td>\n",
       "      <td>371-7191</td>\n",
       "      <td>no</td>\n",
       "      <td>yes</td>\n",
       "      <td>26</td>\n",
       "      <td>161.6</td>\n",
       "      <td>123</td>\n",
       "      <td>27.47</td>\n",
       "      <td>...</td>\n",
       "      <td>103</td>\n",
       "      <td>16.62</td>\n",
       "      <td>254.4</td>\n",
       "      <td>103</td>\n",
       "      <td>11.45</td>\n",
       "      <td>13.7</td>\n",
       "      <td>3</td>\n",
       "      <td>3.70</td>\n",
       "      <td>1</td>\n",
       "      <td>False</td>\n",
       "    </tr>\n",
       "    <tr>\n",
       "      <th>2</th>\n",
       "      <td>NJ</td>\n",
       "      <td>137</td>\n",
       "      <td>415</td>\n",
       "      <td>358-1921</td>\n",
       "      <td>no</td>\n",
       "      <td>no</td>\n",
       "      <td>0</td>\n",
       "      <td>243.4</td>\n",
       "      <td>114</td>\n",
       "      <td>41.38</td>\n",
       "      <td>...</td>\n",
       "      <td>110</td>\n",
       "      <td>10.30</td>\n",
       "      <td>162.6</td>\n",
       "      <td>104</td>\n",
       "      <td>7.32</td>\n",
       "      <td>12.2</td>\n",
       "      <td>5</td>\n",
       "      <td>3.29</td>\n",
       "      <td>0</td>\n",
       "      <td>False</td>\n",
       "    </tr>\n",
       "    <tr>\n",
       "      <th>3</th>\n",
       "      <td>OH</td>\n",
       "      <td>84</td>\n",
       "      <td>408</td>\n",
       "      <td>375-9999</td>\n",
       "      <td>yes</td>\n",
       "      <td>no</td>\n",
       "      <td>0</td>\n",
       "      <td>299.4</td>\n",
       "      <td>71</td>\n",
       "      <td>50.90</td>\n",
       "      <td>...</td>\n",
       "      <td>88</td>\n",
       "      <td>5.26</td>\n",
       "      <td>196.9</td>\n",
       "      <td>89</td>\n",
       "      <td>8.86</td>\n",
       "      <td>6.6</td>\n",
       "      <td>7</td>\n",
       "      <td>1.78</td>\n",
       "      <td>2</td>\n",
       "      <td>False</td>\n",
       "    </tr>\n",
       "    <tr>\n",
       "      <th>4</th>\n",
       "      <td>OK</td>\n",
       "      <td>75</td>\n",
       "      <td>415</td>\n",
       "      <td>330-6626</td>\n",
       "      <td>yes</td>\n",
       "      <td>no</td>\n",
       "      <td>0</td>\n",
       "      <td>166.7</td>\n",
       "      <td>113</td>\n",
       "      <td>28.34</td>\n",
       "      <td>...</td>\n",
       "      <td>122</td>\n",
       "      <td>12.61</td>\n",
       "      <td>186.9</td>\n",
       "      <td>121</td>\n",
       "      <td>8.41</td>\n",
       "      <td>10.1</td>\n",
       "      <td>3</td>\n",
       "      <td>2.73</td>\n",
       "      <td>3</td>\n",
       "      <td>False</td>\n",
       "    </tr>\n",
       "  </tbody>\n",
       "</table>\n",
       "<p>5 rows × 21 columns</p>\n",
       "</div>"
      ],
      "text/plain": [
       "  state  account length  area code phone number international plan  \\\n",
       "0    KS             128        415     382-4657                 no   \n",
       "1    OH             107        415     371-7191                 no   \n",
       "2    NJ             137        415     358-1921                 no   \n",
       "3    OH              84        408     375-9999                yes   \n",
       "4    OK              75        415     330-6626                yes   \n",
       "\n",
       "  voice mail plan  number vmail messages  total day minutes  total day calls  \\\n",
       "0             yes                     25              265.1              110   \n",
       "1             yes                     26              161.6              123   \n",
       "2              no                      0              243.4              114   \n",
       "3              no                      0              299.4               71   \n",
       "4              no                      0              166.7              113   \n",
       "\n",
       "   total day charge  ...  total eve calls  total eve charge  \\\n",
       "0             45.07  ...               99             16.78   \n",
       "1             27.47  ...              103             16.62   \n",
       "2             41.38  ...              110             10.30   \n",
       "3             50.90  ...               88              5.26   \n",
       "4             28.34  ...              122             12.61   \n",
       "\n",
       "   total night minutes  total night calls  total night charge  \\\n",
       "0                244.7                 91               11.01   \n",
       "1                254.4                103               11.45   \n",
       "2                162.6                104                7.32   \n",
       "3                196.9                 89                8.86   \n",
       "4                186.9                121                8.41   \n",
       "\n",
       "   total intl minutes  total intl calls  total intl charge  \\\n",
       "0                10.0                 3               2.70   \n",
       "1                13.7                 3               3.70   \n",
       "2                12.2                 5               3.29   \n",
       "3                 6.6                 7               1.78   \n",
       "4                10.1                 3               2.73   \n",
       "\n",
       "   customer service calls  churn  \n",
       "0                       1  False  \n",
       "1                       1  False  \n",
       "2                       0  False  \n",
       "3                       2  False  \n",
       "4                       3  False  \n",
       "\n",
       "[5 rows x 21 columns]"
      ]
     },
     "execution_count": 18,
     "metadata": {},
     "output_type": "execute_result"
    }
   ],
   "source": [
    "# Opening and previewing the dataset\n",
    "\n",
    "df = pd.read_csv('data/telephone.csv')\n",
    "\n",
    "df.head()"
   ]
  },
  {
   "cell_type": "code",
   "execution_count": 19,
   "id": "1975e143",
   "metadata": {},
   "outputs": [
    {
     "name": "stdout",
     "output_type": "stream",
     "text": [
      "<class 'pandas.core.frame.DataFrame'>\n",
      "RangeIndex: 3333 entries, 0 to 3332\n",
      "Data columns (total 21 columns):\n",
      " #   Column                  Non-Null Count  Dtype  \n",
      "---  ------                  --------------  -----  \n",
      " 0   state                   3333 non-null   object \n",
      " 1   account length          3333 non-null   int64  \n",
      " 2   area code               3333 non-null   int64  \n",
      " 3   phone number            3333 non-null   object \n",
      " 4   international plan      3333 non-null   object \n",
      " 5   voice mail plan         3333 non-null   object \n",
      " 6   number vmail messages   3333 non-null   int64  \n",
      " 7   total day minutes       3333 non-null   float64\n",
      " 8   total day calls         3333 non-null   int64  \n",
      " 9   total day charge        3333 non-null   float64\n",
      " 10  total eve minutes       3333 non-null   float64\n",
      " 11  total eve calls         3333 non-null   int64  \n",
      " 12  total eve charge        3333 non-null   float64\n",
      " 13  total night minutes     3333 non-null   float64\n",
      " 14  total night calls       3333 non-null   int64  \n",
      " 15  total night charge      3333 non-null   float64\n",
      " 16  total intl minutes      3333 non-null   float64\n",
      " 17  total intl calls        3333 non-null   int64  \n",
      " 18  total intl charge       3333 non-null   float64\n",
      " 19  customer service calls  3333 non-null   int64  \n",
      " 20  churn                   3333 non-null   bool   \n",
      "dtypes: bool(1), float64(8), int64(8), object(4)\n",
      "memory usage: 524.2+ KB\n"
     ]
    }
   ],
   "source": [
    "# Attaining information on the dataset\n",
    "\n",
    "df.info()"
   ]
  },
  {
   "cell_type": "markdown",
   "id": "2de61c1d",
   "metadata": {},
   "source": [
    "**Understanding and describing the data.**\n",
    "* The dataframe is a summary of records of different phone users, where there from,  how long they have had the phone number, times they called customer service, call information and whether or not they opted out. \n",
    "* The dataset comprises of 21 columns an 3333 entries with no missing values.\n",
    "* The data types are objects, integers, floats and a boolean."
   ]
  },
  {
   "cell_type": "markdown",
   "id": "af87bdcf",
   "metadata": {},
   "source": [
    "## DATA PREPARATION"
   ]
  },
  {
   "cell_type": "markdown",
   "id": "f9d37715",
   "metadata": {},
   "source": [
    "### Data Cleaning and Feature Engineering.\n",
    "\n",
    "\n",
    "* For the purpose of machine learning,the phone number field and the area code field are not required for the model as they serve no purpose and will skew the data.For this we can use pandas to drop the columns.\n",
    "\n",
    "* Going with the assumption that we are trying to improve overall service delivery at a lower cost,we can neglect the state column as it would create too many features and would'nt generalize properly\n",
    "\n",
    "* The data also contains object data types that must be encoded in order to build a machine learning model.The boolean target must also be converted to a integer. \n",
    "\n",
    "* The numerical data is of different magnitudes,so thus to improve our model performance we can scale them down using Min-max or stsndard scaler depending if they are Gaussian shaped or not.\n"
   ]
  },
  {
   "cell_type": "markdown",
   "id": "a52c56fd",
   "metadata": {},
   "source": [
    "1. Droping the redundant columns first"
   ]
  },
  {
   "cell_type": "code",
   "execution_count": 20,
   "id": "609b09cf",
   "metadata": {},
   "outputs": [
    {
     "data": {
      "text/html": [
       "<div>\n",
       "<style scoped>\n",
       "    .dataframe tbody tr th:only-of-type {\n",
       "        vertical-align: middle;\n",
       "    }\n",
       "\n",
       "    .dataframe tbody tr th {\n",
       "        vertical-align: top;\n",
       "    }\n",
       "\n",
       "    .dataframe thead th {\n",
       "        text-align: right;\n",
       "    }\n",
       "</style>\n",
       "<table border=\"1\" class=\"dataframe\">\n",
       "  <thead>\n",
       "    <tr style=\"text-align: right;\">\n",
       "      <th></th>\n",
       "      <th>account length</th>\n",
       "      <th>international plan</th>\n",
       "      <th>voice mail plan</th>\n",
       "      <th>number vmail messages</th>\n",
       "      <th>total day minutes</th>\n",
       "      <th>total day calls</th>\n",
       "      <th>total day charge</th>\n",
       "      <th>total eve minutes</th>\n",
       "      <th>total eve calls</th>\n",
       "      <th>total eve charge</th>\n",
       "      <th>total night minutes</th>\n",
       "      <th>total night calls</th>\n",
       "      <th>total night charge</th>\n",
       "      <th>total intl minutes</th>\n",
       "      <th>total intl calls</th>\n",
       "      <th>total intl charge</th>\n",
       "      <th>customer service calls</th>\n",
       "      <th>churn</th>\n",
       "    </tr>\n",
       "  </thead>\n",
       "  <tbody>\n",
       "    <tr>\n",
       "      <th>0</th>\n",
       "      <td>128</td>\n",
       "      <td>no</td>\n",
       "      <td>yes</td>\n",
       "      <td>25</td>\n",
       "      <td>265.1</td>\n",
       "      <td>110</td>\n",
       "      <td>45.07</td>\n",
       "      <td>197.4</td>\n",
       "      <td>99</td>\n",
       "      <td>16.78</td>\n",
       "      <td>244.7</td>\n",
       "      <td>91</td>\n",
       "      <td>11.01</td>\n",
       "      <td>10.0</td>\n",
       "      <td>3</td>\n",
       "      <td>2.70</td>\n",
       "      <td>1</td>\n",
       "      <td>False</td>\n",
       "    </tr>\n",
       "    <tr>\n",
       "      <th>1</th>\n",
       "      <td>107</td>\n",
       "      <td>no</td>\n",
       "      <td>yes</td>\n",
       "      <td>26</td>\n",
       "      <td>161.6</td>\n",
       "      <td>123</td>\n",
       "      <td>27.47</td>\n",
       "      <td>195.5</td>\n",
       "      <td>103</td>\n",
       "      <td>16.62</td>\n",
       "      <td>254.4</td>\n",
       "      <td>103</td>\n",
       "      <td>11.45</td>\n",
       "      <td>13.7</td>\n",
       "      <td>3</td>\n",
       "      <td>3.70</td>\n",
       "      <td>1</td>\n",
       "      <td>False</td>\n",
       "    </tr>\n",
       "    <tr>\n",
       "      <th>2</th>\n",
       "      <td>137</td>\n",
       "      <td>no</td>\n",
       "      <td>no</td>\n",
       "      <td>0</td>\n",
       "      <td>243.4</td>\n",
       "      <td>114</td>\n",
       "      <td>41.38</td>\n",
       "      <td>121.2</td>\n",
       "      <td>110</td>\n",
       "      <td>10.30</td>\n",
       "      <td>162.6</td>\n",
       "      <td>104</td>\n",
       "      <td>7.32</td>\n",
       "      <td>12.2</td>\n",
       "      <td>5</td>\n",
       "      <td>3.29</td>\n",
       "      <td>0</td>\n",
       "      <td>False</td>\n",
       "    </tr>\n",
       "    <tr>\n",
       "      <th>3</th>\n",
       "      <td>84</td>\n",
       "      <td>yes</td>\n",
       "      <td>no</td>\n",
       "      <td>0</td>\n",
       "      <td>299.4</td>\n",
       "      <td>71</td>\n",
       "      <td>50.90</td>\n",
       "      <td>61.9</td>\n",
       "      <td>88</td>\n",
       "      <td>5.26</td>\n",
       "      <td>196.9</td>\n",
       "      <td>89</td>\n",
       "      <td>8.86</td>\n",
       "      <td>6.6</td>\n",
       "      <td>7</td>\n",
       "      <td>1.78</td>\n",
       "      <td>2</td>\n",
       "      <td>False</td>\n",
       "    </tr>\n",
       "    <tr>\n",
       "      <th>4</th>\n",
       "      <td>75</td>\n",
       "      <td>yes</td>\n",
       "      <td>no</td>\n",
       "      <td>0</td>\n",
       "      <td>166.7</td>\n",
       "      <td>113</td>\n",
       "      <td>28.34</td>\n",
       "      <td>148.3</td>\n",
       "      <td>122</td>\n",
       "      <td>12.61</td>\n",
       "      <td>186.9</td>\n",
       "      <td>121</td>\n",
       "      <td>8.41</td>\n",
       "      <td>10.1</td>\n",
       "      <td>3</td>\n",
       "      <td>2.73</td>\n",
       "      <td>3</td>\n",
       "      <td>False</td>\n",
       "    </tr>\n",
       "  </tbody>\n",
       "</table>\n",
       "</div>"
      ],
      "text/plain": [
       "   account length international plan voice mail plan  number vmail messages  \\\n",
       "0             128                 no             yes                     25   \n",
       "1             107                 no             yes                     26   \n",
       "2             137                 no              no                      0   \n",
       "3              84                yes              no                      0   \n",
       "4              75                yes              no                      0   \n",
       "\n",
       "   total day minutes  total day calls  total day charge  total eve minutes  \\\n",
       "0              265.1              110             45.07              197.4   \n",
       "1              161.6              123             27.47              195.5   \n",
       "2              243.4              114             41.38              121.2   \n",
       "3              299.4               71             50.90               61.9   \n",
       "4              166.7              113             28.34              148.3   \n",
       "\n",
       "   total eve calls  total eve charge  total night minutes  total night calls  \\\n",
       "0               99             16.78                244.7                 91   \n",
       "1              103             16.62                254.4                103   \n",
       "2              110             10.30                162.6                104   \n",
       "3               88              5.26                196.9                 89   \n",
       "4              122             12.61                186.9                121   \n",
       "\n",
       "   total night charge  total intl minutes  total intl calls  \\\n",
       "0               11.01                10.0                 3   \n",
       "1               11.45                13.7                 3   \n",
       "2                7.32                12.2                 5   \n",
       "3                8.86                 6.6                 7   \n",
       "4                8.41                10.1                 3   \n",
       "\n",
       "   total intl charge  customer service calls  churn  \n",
       "0               2.70                       1  False  \n",
       "1               3.70                       1  False  \n",
       "2               3.29                       0  False  \n",
       "3               1.78                       2  False  \n",
       "4               2.73                       3  False  "
      ]
     },
     "execution_count": 20,
     "metadata": {},
     "output_type": "execute_result"
    }
   ],
   "source": [
    "\n",
    "df = df.drop(columns=['area code', 'phone number', 'state'])\n",
    "\n",
    "df.head()\n",
    "\n"
   ]
  },
  {
   "cell_type": "markdown",
   "id": "8fbb6387",
   "metadata": {},
   "source": [
    "2. Converting the target column into a numerical binary"
   ]
  },
  {
   "cell_type": "code",
   "execution_count": 21,
   "id": "523a2b8b",
   "metadata": {},
   "outputs": [
    {
     "data": {
      "text/html": [
       "<div>\n",
       "<style scoped>\n",
       "    .dataframe tbody tr th:only-of-type {\n",
       "        vertical-align: middle;\n",
       "    }\n",
       "\n",
       "    .dataframe tbody tr th {\n",
       "        vertical-align: top;\n",
       "    }\n",
       "\n",
       "    .dataframe thead th {\n",
       "        text-align: right;\n",
       "    }\n",
       "</style>\n",
       "<table border=\"1\" class=\"dataframe\">\n",
       "  <thead>\n",
       "    <tr style=\"text-align: right;\">\n",
       "      <th></th>\n",
       "      <th>account length</th>\n",
       "      <th>international plan</th>\n",
       "      <th>voice mail plan</th>\n",
       "      <th>number vmail messages</th>\n",
       "      <th>total day minutes</th>\n",
       "      <th>total day calls</th>\n",
       "      <th>total day charge</th>\n",
       "      <th>total eve minutes</th>\n",
       "      <th>total eve calls</th>\n",
       "      <th>total eve charge</th>\n",
       "      <th>total night minutes</th>\n",
       "      <th>total night calls</th>\n",
       "      <th>total night charge</th>\n",
       "      <th>total intl minutes</th>\n",
       "      <th>total intl calls</th>\n",
       "      <th>total intl charge</th>\n",
       "      <th>customer service calls</th>\n",
       "      <th>churn</th>\n",
       "    </tr>\n",
       "  </thead>\n",
       "  <tbody>\n",
       "    <tr>\n",
       "      <th>0</th>\n",
       "      <td>128</td>\n",
       "      <td>no</td>\n",
       "      <td>yes</td>\n",
       "      <td>25</td>\n",
       "      <td>265.1</td>\n",
       "      <td>110</td>\n",
       "      <td>45.07</td>\n",
       "      <td>197.4</td>\n",
       "      <td>99</td>\n",
       "      <td>16.78</td>\n",
       "      <td>244.7</td>\n",
       "      <td>91</td>\n",
       "      <td>11.01</td>\n",
       "      <td>10.0</td>\n",
       "      <td>3</td>\n",
       "      <td>2.70</td>\n",
       "      <td>1</td>\n",
       "      <td>0</td>\n",
       "    </tr>\n",
       "    <tr>\n",
       "      <th>1</th>\n",
       "      <td>107</td>\n",
       "      <td>no</td>\n",
       "      <td>yes</td>\n",
       "      <td>26</td>\n",
       "      <td>161.6</td>\n",
       "      <td>123</td>\n",
       "      <td>27.47</td>\n",
       "      <td>195.5</td>\n",
       "      <td>103</td>\n",
       "      <td>16.62</td>\n",
       "      <td>254.4</td>\n",
       "      <td>103</td>\n",
       "      <td>11.45</td>\n",
       "      <td>13.7</td>\n",
       "      <td>3</td>\n",
       "      <td>3.70</td>\n",
       "      <td>1</td>\n",
       "      <td>0</td>\n",
       "    </tr>\n",
       "    <tr>\n",
       "      <th>2</th>\n",
       "      <td>137</td>\n",
       "      <td>no</td>\n",
       "      <td>no</td>\n",
       "      <td>0</td>\n",
       "      <td>243.4</td>\n",
       "      <td>114</td>\n",
       "      <td>41.38</td>\n",
       "      <td>121.2</td>\n",
       "      <td>110</td>\n",
       "      <td>10.30</td>\n",
       "      <td>162.6</td>\n",
       "      <td>104</td>\n",
       "      <td>7.32</td>\n",
       "      <td>12.2</td>\n",
       "      <td>5</td>\n",
       "      <td>3.29</td>\n",
       "      <td>0</td>\n",
       "      <td>0</td>\n",
       "    </tr>\n",
       "    <tr>\n",
       "      <th>3</th>\n",
       "      <td>84</td>\n",
       "      <td>yes</td>\n",
       "      <td>no</td>\n",
       "      <td>0</td>\n",
       "      <td>299.4</td>\n",
       "      <td>71</td>\n",
       "      <td>50.90</td>\n",
       "      <td>61.9</td>\n",
       "      <td>88</td>\n",
       "      <td>5.26</td>\n",
       "      <td>196.9</td>\n",
       "      <td>89</td>\n",
       "      <td>8.86</td>\n",
       "      <td>6.6</td>\n",
       "      <td>7</td>\n",
       "      <td>1.78</td>\n",
       "      <td>2</td>\n",
       "      <td>0</td>\n",
       "    </tr>\n",
       "    <tr>\n",
       "      <th>4</th>\n",
       "      <td>75</td>\n",
       "      <td>yes</td>\n",
       "      <td>no</td>\n",
       "      <td>0</td>\n",
       "      <td>166.7</td>\n",
       "      <td>113</td>\n",
       "      <td>28.34</td>\n",
       "      <td>148.3</td>\n",
       "      <td>122</td>\n",
       "      <td>12.61</td>\n",
       "      <td>186.9</td>\n",
       "      <td>121</td>\n",
       "      <td>8.41</td>\n",
       "      <td>10.1</td>\n",
       "      <td>3</td>\n",
       "      <td>2.73</td>\n",
       "      <td>3</td>\n",
       "      <td>0</td>\n",
       "    </tr>\n",
       "  </tbody>\n",
       "</table>\n",
       "</div>"
      ],
      "text/plain": [
       "   account length international plan voice mail plan  number vmail messages  \\\n",
       "0             128                 no             yes                     25   \n",
       "1             107                 no             yes                     26   \n",
       "2             137                 no              no                      0   \n",
       "3              84                yes              no                      0   \n",
       "4              75                yes              no                      0   \n",
       "\n",
       "   total day minutes  total day calls  total day charge  total eve minutes  \\\n",
       "0              265.1              110             45.07              197.4   \n",
       "1              161.6              123             27.47              195.5   \n",
       "2              243.4              114             41.38              121.2   \n",
       "3              299.4               71             50.90               61.9   \n",
       "4              166.7              113             28.34              148.3   \n",
       "\n",
       "   total eve calls  total eve charge  total night minutes  total night calls  \\\n",
       "0               99             16.78                244.7                 91   \n",
       "1              103             16.62                254.4                103   \n",
       "2              110             10.30                162.6                104   \n",
       "3               88              5.26                196.9                 89   \n",
       "4              122             12.61                186.9                121   \n",
       "\n",
       "   total night charge  total intl minutes  total intl calls  \\\n",
       "0               11.01                10.0                 3   \n",
       "1               11.45                13.7                 3   \n",
       "2                7.32                12.2                 5   \n",
       "3                8.86                 6.6                 7   \n",
       "4                8.41                10.1                 3   \n",
       "\n",
       "   total intl charge  customer service calls  churn  \n",
       "0               2.70                       1      0  \n",
       "1               3.70                       1      0  \n",
       "2               3.29                       0      0  \n",
       "3               1.78                       2      0  \n",
       "4               2.73                       3      0  "
      ]
     },
     "execution_count": 21,
     "metadata": {},
     "output_type": "execute_result"
    }
   ],
   "source": [
    "# Using pandas to convert the datatype.TimeoutError\n",
    "\n",
    "df['churn'] = df['churn'].astype(int)\n",
    "\n",
    "df.head()"
   ]
  },
  {
   "cell_type": "markdown",
   "id": "3d9ed106",
   "metadata": {},
   "source": [
    "3. Now we need to split the dataset on the basis of datatype to perform the transformations."
   ]
  },
  {
   "cell_type": "code",
   "execution_count": 22,
   "id": "fd43d234",
   "metadata": {},
   "outputs": [
    {
     "name": "stdout",
     "output_type": "stream",
     "text": [
      "<class 'pandas.core.frame.DataFrame'>\n",
      "RangeIndex: 3333 entries, 0 to 3332\n",
      "Data columns (total 15 columns):\n",
      " #   Column                  Non-Null Count  Dtype  \n",
      "---  ------                  --------------  -----  \n",
      " 0   account length          3333 non-null   int64  \n",
      " 1   number vmail messages   3333 non-null   int64  \n",
      " 2   total day minutes       3333 non-null   float64\n",
      " 3   total day calls         3333 non-null   int64  \n",
      " 4   total day charge        3333 non-null   float64\n",
      " 5   total eve minutes       3333 non-null   float64\n",
      " 6   total eve calls         3333 non-null   int64  \n",
      " 7   total eve charge        3333 non-null   float64\n",
      " 8   total night minutes     3333 non-null   float64\n",
      " 9   total night calls       3333 non-null   int64  \n",
      " 10  total night charge      3333 non-null   float64\n",
      " 11  total intl minutes      3333 non-null   float64\n",
      " 12  total intl calls        3333 non-null   int64  \n",
      " 13  total intl charge       3333 non-null   float64\n",
      " 14  customer service calls  3333 non-null   int64  \n",
      "dtypes: float64(8), int64(7)\n",
      "memory usage: 390.7 KB\n",
      "None\n",
      "\n",
      "<class 'pandas.core.frame.DataFrame'>\n",
      "RangeIndex: 3333 entries, 0 to 3332\n",
      "Data columns (total 2 columns):\n",
      " #   Column              Non-Null Count  Dtype \n",
      "---  ------              --------------  ----- \n",
      " 0   international plan  3333 non-null   object\n",
      " 1   voice mail plan     3333 non-null   object\n",
      "dtypes: object(2)\n",
      "memory usage: 52.2+ KB\n",
      "None\n"
     ]
    }
   ],
   "source": [
    "df_numerical = df.select_dtypes(include=['int64', 'float64'])\n",
    "df_categorical = df.select_dtypes(include=['object'])\n",
    "\n",
    "print(df_numerical.info())\n",
    "print()\n",
    "print(df_categorical.info())"
   ]
  },
  {
   "cell_type": "markdown",
   "id": "a5430d39",
   "metadata": {},
   "source": [
    "4. Now we can perform encoding to ensure the categorical variables can be passed through the model. "
   ]
  },
  {
   "cell_type": "code",
   "execution_count": 23,
   "id": "d1b4a575",
   "metadata": {},
   "outputs": [
    {
     "name": "stderr",
     "output_type": "stream",
     "text": [
      "c:\\Users\\eugene.maina\\AppData\\Local\\anaconda3\\envs\\learn-env\\lib\\site-packages\\sklearn\\preprocessing\\_encoders.py:975: FutureWarning: `sparse` was renamed to `sparse_output` in version 1.2 and will be removed in 1.4. `sparse_output` is ignored unless you leave `sparse` to its default value.\n",
      "  warnings.warn(\n"
     ]
    },
    {
     "data": {
      "text/html": [
       "<div>\n",
       "<style scoped>\n",
       "    .dataframe tbody tr th:only-of-type {\n",
       "        vertical-align: middle;\n",
       "    }\n",
       "\n",
       "    .dataframe tbody tr th {\n",
       "        vertical-align: top;\n",
       "    }\n",
       "\n",
       "    .dataframe thead th {\n",
       "        text-align: right;\n",
       "    }\n",
       "</style>\n",
       "<table border=\"1\" class=\"dataframe\">\n",
       "  <thead>\n",
       "    <tr style=\"text-align: right;\">\n",
       "      <th></th>\n",
       "      <th>international plan_yes</th>\n",
       "      <th>voice mail plan_yes</th>\n",
       "    </tr>\n",
       "  </thead>\n",
       "  <tbody>\n",
       "    <tr>\n",
       "      <th>0</th>\n",
       "      <td>0.0</td>\n",
       "      <td>1.0</td>\n",
       "    </tr>\n",
       "    <tr>\n",
       "      <th>1</th>\n",
       "      <td>0.0</td>\n",
       "      <td>1.0</td>\n",
       "    </tr>\n",
       "    <tr>\n",
       "      <th>2</th>\n",
       "      <td>0.0</td>\n",
       "      <td>0.0</td>\n",
       "    </tr>\n",
       "    <tr>\n",
       "      <th>3</th>\n",
       "      <td>1.0</td>\n",
       "      <td>0.0</td>\n",
       "    </tr>\n",
       "    <tr>\n",
       "      <th>4</th>\n",
       "      <td>1.0</td>\n",
       "      <td>0.0</td>\n",
       "    </tr>\n",
       "  </tbody>\n",
       "</table>\n",
       "</div>"
      ],
      "text/plain": [
       "   international plan_yes  voice mail plan_yes\n",
       "0                     0.0                  1.0\n",
       "1                     0.0                  1.0\n",
       "2                     0.0                  0.0\n",
       "3                     1.0                  0.0\n",
       "4                     1.0                  0.0"
      ]
     },
     "execution_count": 23,
     "metadata": {},
     "output_type": "execute_result"
    }
   ],
   "source": [
    "# Using sklearn modules to encode the categorical variables\n",
    "\n",
    "encoder = OneHotEncoder(sparse=False, drop='first')\n",
    "\n",
    "encoded_categorical = encoder.fit_transform(df_categorical)\n",
    "encoded_categorical_df = pd.DataFrame(encoded_categorical, columns=encoder.get_feature_names_out(df_categorical.columns))\n",
    "\n",
    "encoded_categorical_df.head()"
   ]
  },
  {
   "cell_type": "markdown",
   "id": "d49e2a65",
   "metadata": {},
   "source": [
    "5. Then we can transform the numerical values using either `MinMaxScaler` or `StandardScaler` depending on whether or not they have a Gaussian distribution.To do this, we can use the `.describe` method to provide insights."
   ]
  },
  {
   "cell_type": "code",
   "execution_count": 24,
   "id": "578080eb",
   "metadata": {},
   "outputs": [
    {
     "name": "stdout",
     "output_type": "stream",
     "text": [
      "                         count        mean        std    min     25%     50%  \\\n",
      "account length          3333.0  101.064806  39.822106   1.00   74.00  101.00   \n",
      "number vmail messages   3333.0    8.099010  13.688365   0.00    0.00    0.00   \n",
      "total day minutes       3333.0  179.775098  54.467389   0.00  143.70  179.40   \n",
      "total day calls         3333.0  100.435644  20.069084   0.00   87.00  101.00   \n",
      "total day charge        3333.0   30.562307   9.259435   0.00   24.43   30.50   \n",
      "total eve minutes       3333.0  200.980348  50.713844   0.00  166.60  201.40   \n",
      "total eve calls         3333.0  100.114311  19.922625   0.00   87.00  100.00   \n",
      "total eve charge        3333.0   17.083540   4.310668   0.00   14.16   17.12   \n",
      "total night minutes     3333.0  200.872037  50.573847  23.20  167.00  201.20   \n",
      "total night calls       3333.0  100.107711  19.568609  33.00   87.00  100.00   \n",
      "total night charge      3333.0    9.039325   2.275873   1.04    7.52    9.05   \n",
      "total intl minutes      3333.0   10.237294   2.791840   0.00    8.50   10.30   \n",
      "total intl calls        3333.0    4.479448   2.461214   0.00    3.00    4.00   \n",
      "total intl charge       3333.0    2.764581   0.753773   0.00    2.30    2.78   \n",
      "customer service calls  3333.0    1.562856   1.315491   0.00    1.00    1.00   \n",
      "\n",
      "                           75%     max  \n",
      "account length          127.00  243.00  \n",
      "number vmail messages    20.00   51.00  \n",
      "total day minutes       216.40  350.80  \n",
      "total day calls         114.00  165.00  \n",
      "total day charge         36.79   59.64  \n",
      "total eve minutes       235.30  363.70  \n",
      "total eve calls         114.00  170.00  \n",
      "total eve charge         20.00   30.91  \n",
      "total night minutes     235.30  395.00  \n",
      "total night calls       113.00  175.00  \n",
      "total night charge       10.59   17.77  \n",
      "total intl minutes       12.10   20.00  \n",
      "total intl calls          6.00   20.00  \n",
      "total intl charge         3.27    5.40  \n",
      "customer service calls    2.00    9.00  \n",
      " \n",
      "----------------------\n",
      "\n",
      "                             0       1       2      3      4\n",
      "account length          105.00     NaN     NaN    NaN    NaN\n",
      "number vmail messages     0.00     NaN     NaN    NaN    NaN\n",
      "total day minutes       154.00  159.50  174.50    NaN    NaN\n",
      "total day calls         102.00     NaN     NaN    NaN    NaN\n",
      "total day charge         26.18   27.12   29.67    NaN    NaN\n",
      "total eve minutes       169.90     NaN     NaN    NaN    NaN\n",
      "total eve calls         105.00     NaN     NaN    NaN    NaN\n",
      "total eve charge         14.25   16.12     NaN    NaN    NaN\n",
      "total night minutes     188.20  191.40  197.40  210.0  214.6\n",
      "total night calls       105.00     NaN     NaN    NaN    NaN\n",
      "total night charge        9.45    9.66     NaN    NaN    NaN\n",
      "total intl minutes       10.00     NaN     NaN    NaN    NaN\n",
      "total intl calls          3.00     NaN     NaN    NaN    NaN\n",
      "total intl charge         2.70     NaN     NaN    NaN    NaN\n",
      "customer service calls    1.00     NaN     NaN    NaN    NaN\n"
     ]
    }
   ],
   "source": [
    "print(df_numerical.describe().T)\n",
    "print(' \\n----------------------\\n')\n",
    "print(df_numerical.mode().T)"
   ]
  },
  {
   "cell_type": "markdown",
   "id": "49371fad",
   "metadata": {},
   "source": [
    "* From the results, it suggests that only account length and customer service cells have a Non-Gaussian distribution(since the mean, median and mode are not equal), thus these columns will be scaled using `MinMaxScaler` and the others using `StandardScaler`"
   ]
  },
  {
   "cell_type": "code",
   "execution_count": 25,
   "id": "41bdf95c",
   "metadata": {},
   "outputs": [
    {
     "data": {
      "text/html": [
       "<div>\n",
       "<style scoped>\n",
       "    .dataframe tbody tr th:only-of-type {\n",
       "        vertical-align: middle;\n",
       "    }\n",
       "\n",
       "    .dataframe tbody tr th {\n",
       "        vertical-align: top;\n",
       "    }\n",
       "\n",
       "    .dataframe thead th {\n",
       "        text-align: right;\n",
       "    }\n",
       "</style>\n",
       "<table border=\"1\" class=\"dataframe\">\n",
       "  <thead>\n",
       "    <tr style=\"text-align: right;\">\n",
       "      <th></th>\n",
       "      <th>number vmail messages</th>\n",
       "      <th>total day minutes</th>\n",
       "      <th>total day calls</th>\n",
       "      <th>total day charge</th>\n",
       "      <th>total eve minutes</th>\n",
       "      <th>total eve calls</th>\n",
       "      <th>total eve charge</th>\n",
       "      <th>total night minutes</th>\n",
       "      <th>total night calls</th>\n",
       "      <th>total night charge</th>\n",
       "      <th>total intl minutes</th>\n",
       "      <th>total intl calls</th>\n",
       "      <th>total intl charge</th>\n",
       "    </tr>\n",
       "  </thead>\n",
       "  <tbody>\n",
       "    <tr>\n",
       "      <th>0</th>\n",
       "      <td>1.234883</td>\n",
       "      <td>1.566767</td>\n",
       "      <td>0.476643</td>\n",
       "      <td>1.567036</td>\n",
       "      <td>-0.070610</td>\n",
       "      <td>-0.055940</td>\n",
       "      <td>-0.070427</td>\n",
       "      <td>0.866743</td>\n",
       "      <td>-0.465494</td>\n",
       "      <td>0.866029</td>\n",
       "      <td>-0.085008</td>\n",
       "      <td>-0.601195</td>\n",
       "      <td>-0.085690</td>\n",
       "    </tr>\n",
       "    <tr>\n",
       "      <th>1</th>\n",
       "      <td>1.307948</td>\n",
       "      <td>-0.333738</td>\n",
       "      <td>1.124503</td>\n",
       "      <td>-0.334013</td>\n",
       "      <td>-0.108080</td>\n",
       "      <td>0.144867</td>\n",
       "      <td>-0.107549</td>\n",
       "      <td>1.058571</td>\n",
       "      <td>0.147825</td>\n",
       "      <td>1.059390</td>\n",
       "      <td>1.240482</td>\n",
       "      <td>-0.601195</td>\n",
       "      <td>1.241169</td>\n",
       "    </tr>\n",
       "    <tr>\n",
       "      <th>2</th>\n",
       "      <td>-0.591760</td>\n",
       "      <td>1.168304</td>\n",
       "      <td>0.675985</td>\n",
       "      <td>1.168464</td>\n",
       "      <td>-1.573383</td>\n",
       "      <td>0.496279</td>\n",
       "      <td>-1.573900</td>\n",
       "      <td>-0.756869</td>\n",
       "      <td>0.198935</td>\n",
       "      <td>-0.755571</td>\n",
       "      <td>0.703121</td>\n",
       "      <td>0.211534</td>\n",
       "      <td>0.697156</td>\n",
       "    </tr>\n",
       "    <tr>\n",
       "      <th>3</th>\n",
       "      <td>-0.591760</td>\n",
       "      <td>2.196596</td>\n",
       "      <td>-1.466936</td>\n",
       "      <td>2.196759</td>\n",
       "      <td>-2.742865</td>\n",
       "      <td>-0.608159</td>\n",
       "      <td>-2.743268</td>\n",
       "      <td>-0.078551</td>\n",
       "      <td>-0.567714</td>\n",
       "      <td>-0.078806</td>\n",
       "      <td>-1.303026</td>\n",
       "      <td>1.024263</td>\n",
       "      <td>-1.306401</td>\n",
       "    </tr>\n",
       "    <tr>\n",
       "      <th>4</th>\n",
       "      <td>-0.591760</td>\n",
       "      <td>-0.240090</td>\n",
       "      <td>0.626149</td>\n",
       "      <td>-0.240041</td>\n",
       "      <td>-1.038932</td>\n",
       "      <td>1.098699</td>\n",
       "      <td>-1.037939</td>\n",
       "      <td>-0.276311</td>\n",
       "      <td>1.067803</td>\n",
       "      <td>-0.276562</td>\n",
       "      <td>-0.049184</td>\n",
       "      <td>-0.601195</td>\n",
       "      <td>-0.045885</td>\n",
       "    </tr>\n",
       "  </tbody>\n",
       "</table>\n",
       "</div>"
      ],
      "text/plain": [
       "   number vmail messages  total day minutes  total day calls  \\\n",
       "0               1.234883           1.566767         0.476643   \n",
       "1               1.307948          -0.333738         1.124503   \n",
       "2              -0.591760           1.168304         0.675985   \n",
       "3              -0.591760           2.196596        -1.466936   \n",
       "4              -0.591760          -0.240090         0.626149   \n",
       "\n",
       "   total day charge  total eve minutes  total eve calls  total eve charge  \\\n",
       "0          1.567036          -0.070610        -0.055940         -0.070427   \n",
       "1         -0.334013          -0.108080         0.144867         -0.107549   \n",
       "2          1.168464          -1.573383         0.496279         -1.573900   \n",
       "3          2.196759          -2.742865        -0.608159         -2.743268   \n",
       "4         -0.240041          -1.038932         1.098699         -1.037939   \n",
       "\n",
       "   total night minutes  total night calls  total night charge  \\\n",
       "0             0.866743          -0.465494            0.866029   \n",
       "1             1.058571           0.147825            1.059390   \n",
       "2            -0.756869           0.198935           -0.755571   \n",
       "3            -0.078551          -0.567714           -0.078806   \n",
       "4            -0.276311           1.067803           -0.276562   \n",
       "\n",
       "   total intl minutes  total intl calls  total intl charge  \n",
       "0           -0.085008         -0.601195          -0.085690  \n",
       "1            1.240482         -0.601195           1.241169  \n",
       "2            0.703121          0.211534           0.697156  \n",
       "3           -1.303026          1.024263          -1.306401  \n",
       "4           -0.049184         -0.601195          -0.045885  "
      ]
     },
     "execution_count": 25,
     "metadata": {},
     "output_type": "execute_result"
    }
   ],
   "source": [
    "# Converting the Gaussian columns.\n",
    "\n",
    "gaussian_columns = df_numerical.drop(columns=['account length', 'customer service calls'])\n",
    "\n",
    "gaussian_scaler = StandardScaler()\n",
    "\n",
    "gaussian_scaled = gaussian_scaler.fit_transform(gaussian_columns)\n",
    "\n",
    "gaussian_scaled = pd.DataFrame(gaussian_scaled, columns=gaussian_columns.columns)\n",
    "\n",
    "gaussian_scaled.head()"
   ]
  },
  {
   "cell_type": "code",
   "execution_count": 26,
   "id": "2e35cf75",
   "metadata": {},
   "outputs": [
    {
     "data": {
      "text/html": [
       "<div>\n",
       "<style scoped>\n",
       "    .dataframe tbody tr th:only-of-type {\n",
       "        vertical-align: middle;\n",
       "    }\n",
       "\n",
       "    .dataframe tbody tr th {\n",
       "        vertical-align: top;\n",
       "    }\n",
       "\n",
       "    .dataframe thead th {\n",
       "        text-align: right;\n",
       "    }\n",
       "</style>\n",
       "<table border=\"1\" class=\"dataframe\">\n",
       "  <thead>\n",
       "    <tr style=\"text-align: right;\">\n",
       "      <th></th>\n",
       "      <th>customer service calls</th>\n",
       "      <th>account length</th>\n",
       "    </tr>\n",
       "  </thead>\n",
       "  <tbody>\n",
       "    <tr>\n",
       "      <th>0</th>\n",
       "      <td>0.111111</td>\n",
       "      <td>0.524793</td>\n",
       "    </tr>\n",
       "    <tr>\n",
       "      <th>1</th>\n",
       "      <td>0.111111</td>\n",
       "      <td>0.438017</td>\n",
       "    </tr>\n",
       "    <tr>\n",
       "      <th>2</th>\n",
       "      <td>0.000000</td>\n",
       "      <td>0.561983</td>\n",
       "    </tr>\n",
       "    <tr>\n",
       "      <th>3</th>\n",
       "      <td>0.222222</td>\n",
       "      <td>0.342975</td>\n",
       "    </tr>\n",
       "    <tr>\n",
       "      <th>4</th>\n",
       "      <td>0.333333</td>\n",
       "      <td>0.305785</td>\n",
       "    </tr>\n",
       "  </tbody>\n",
       "</table>\n",
       "</div>"
      ],
      "text/plain": [
       "   customer service calls  account length\n",
       "0                0.111111        0.524793\n",
       "1                0.111111        0.438017\n",
       "2                0.000000        0.561983\n",
       "3                0.222222        0.342975\n",
       "4                0.333333        0.305785"
      ]
     },
     "execution_count": 26,
     "metadata": {},
     "output_type": "execute_result"
    }
   ],
   "source": [
    "# Now to convert the non-gaussian columns\n",
    "\n",
    "non_gaussian_columns = ['customer service calls', 'account length']\n",
    "\n",
    "non_gaussian_df = df_numerical[non_gaussian_columns]\n",
    "\n",
    "scaler = MinMaxScaler()\n",
    "\n",
    "scaled = scaler.fit_transform(non_gaussian_df)\n",
    "\n",
    "ng_scaled = pd.DataFrame(scaled, columns=non_gaussian_df.columns)\n",
    "\n",
    "ng_scaled.head()\n",
    "\n"
   ]
  },
  {
   "cell_type": "markdown",
   "id": "caddaac0",
   "metadata": {},
   "source": [
    "* Now to bring the encoded and the scaled dataframes together."
   ]
  },
  {
   "cell_type": "code",
   "execution_count": 33,
   "id": "c8458491",
   "metadata": {},
   "outputs": [
    {
     "data": {
      "text/html": [
       "<div>\n",
       "<style scoped>\n",
       "    .dataframe tbody tr th:only-of-type {\n",
       "        vertical-align: middle;\n",
       "    }\n",
       "\n",
       "    .dataframe tbody tr th {\n",
       "        vertical-align: top;\n",
       "    }\n",
       "\n",
       "    .dataframe thead th {\n",
       "        text-align: right;\n",
       "    }\n",
       "</style>\n",
       "<table border=\"1\" class=\"dataframe\">\n",
       "  <thead>\n",
       "    <tr style=\"text-align: right;\">\n",
       "      <th></th>\n",
       "      <th>number vmail messages</th>\n",
       "      <th>total day minutes</th>\n",
       "      <th>total day calls</th>\n",
       "      <th>total day charge</th>\n",
       "      <th>total eve minutes</th>\n",
       "      <th>total eve calls</th>\n",
       "      <th>total eve charge</th>\n",
       "      <th>total night minutes</th>\n",
       "      <th>total night calls</th>\n",
       "      <th>total night charge</th>\n",
       "      <th>total intl minutes</th>\n",
       "      <th>total intl calls</th>\n",
       "      <th>total intl charge</th>\n",
       "      <th>customer service calls</th>\n",
       "      <th>account length</th>\n",
       "      <th>international plan_yes</th>\n",
       "      <th>voice mail plan_yes</th>\n",
       "      <th>churn</th>\n",
       "    </tr>\n",
       "  </thead>\n",
       "  <tbody>\n",
       "    <tr>\n",
       "      <th>0</th>\n",
       "      <td>1.234883</td>\n",
       "      <td>1.566767</td>\n",
       "      <td>0.476643</td>\n",
       "      <td>1.567036</td>\n",
       "      <td>-0.070610</td>\n",
       "      <td>-0.055940</td>\n",
       "      <td>-0.070427</td>\n",
       "      <td>0.866743</td>\n",
       "      <td>-0.465494</td>\n",
       "      <td>0.866029</td>\n",
       "      <td>-0.085008</td>\n",
       "      <td>-0.601195</td>\n",
       "      <td>-0.085690</td>\n",
       "      <td>0.111111</td>\n",
       "      <td>0.524793</td>\n",
       "      <td>0.0</td>\n",
       "      <td>1.0</td>\n",
       "      <td>0</td>\n",
       "    </tr>\n",
       "    <tr>\n",
       "      <th>1</th>\n",
       "      <td>1.307948</td>\n",
       "      <td>-0.333738</td>\n",
       "      <td>1.124503</td>\n",
       "      <td>-0.334013</td>\n",
       "      <td>-0.108080</td>\n",
       "      <td>0.144867</td>\n",
       "      <td>-0.107549</td>\n",
       "      <td>1.058571</td>\n",
       "      <td>0.147825</td>\n",
       "      <td>1.059390</td>\n",
       "      <td>1.240482</td>\n",
       "      <td>-0.601195</td>\n",
       "      <td>1.241169</td>\n",
       "      <td>0.111111</td>\n",
       "      <td>0.438017</td>\n",
       "      <td>0.0</td>\n",
       "      <td>1.0</td>\n",
       "      <td>0</td>\n",
       "    </tr>\n",
       "    <tr>\n",
       "      <th>2</th>\n",
       "      <td>-0.591760</td>\n",
       "      <td>1.168304</td>\n",
       "      <td>0.675985</td>\n",
       "      <td>1.168464</td>\n",
       "      <td>-1.573383</td>\n",
       "      <td>0.496279</td>\n",
       "      <td>-1.573900</td>\n",
       "      <td>-0.756869</td>\n",
       "      <td>0.198935</td>\n",
       "      <td>-0.755571</td>\n",
       "      <td>0.703121</td>\n",
       "      <td>0.211534</td>\n",
       "      <td>0.697156</td>\n",
       "      <td>0.000000</td>\n",
       "      <td>0.561983</td>\n",
       "      <td>0.0</td>\n",
       "      <td>0.0</td>\n",
       "      <td>0</td>\n",
       "    </tr>\n",
       "    <tr>\n",
       "      <th>3</th>\n",
       "      <td>-0.591760</td>\n",
       "      <td>2.196596</td>\n",
       "      <td>-1.466936</td>\n",
       "      <td>2.196759</td>\n",
       "      <td>-2.742865</td>\n",
       "      <td>-0.608159</td>\n",
       "      <td>-2.743268</td>\n",
       "      <td>-0.078551</td>\n",
       "      <td>-0.567714</td>\n",
       "      <td>-0.078806</td>\n",
       "      <td>-1.303026</td>\n",
       "      <td>1.024263</td>\n",
       "      <td>-1.306401</td>\n",
       "      <td>0.222222</td>\n",
       "      <td>0.342975</td>\n",
       "      <td>1.0</td>\n",
       "      <td>0.0</td>\n",
       "      <td>0</td>\n",
       "    </tr>\n",
       "    <tr>\n",
       "      <th>4</th>\n",
       "      <td>-0.591760</td>\n",
       "      <td>-0.240090</td>\n",
       "      <td>0.626149</td>\n",
       "      <td>-0.240041</td>\n",
       "      <td>-1.038932</td>\n",
       "      <td>1.098699</td>\n",
       "      <td>-1.037939</td>\n",
       "      <td>-0.276311</td>\n",
       "      <td>1.067803</td>\n",
       "      <td>-0.276562</td>\n",
       "      <td>-0.049184</td>\n",
       "      <td>-0.601195</td>\n",
       "      <td>-0.045885</td>\n",
       "      <td>0.333333</td>\n",
       "      <td>0.305785</td>\n",
       "      <td>1.0</td>\n",
       "      <td>0.0</td>\n",
       "      <td>0</td>\n",
       "    </tr>\n",
       "  </tbody>\n",
       "</table>\n",
       "</div>"
      ],
      "text/plain": [
       "   number vmail messages  total day minutes  total day calls  \\\n",
       "0               1.234883           1.566767         0.476643   \n",
       "1               1.307948          -0.333738         1.124503   \n",
       "2              -0.591760           1.168304         0.675985   \n",
       "3              -0.591760           2.196596        -1.466936   \n",
       "4              -0.591760          -0.240090         0.626149   \n",
       "\n",
       "   total day charge  total eve minutes  total eve calls  total eve charge  \\\n",
       "0          1.567036          -0.070610        -0.055940         -0.070427   \n",
       "1         -0.334013          -0.108080         0.144867         -0.107549   \n",
       "2          1.168464          -1.573383         0.496279         -1.573900   \n",
       "3          2.196759          -2.742865        -0.608159         -2.743268   \n",
       "4         -0.240041          -1.038932         1.098699         -1.037939   \n",
       "\n",
       "   total night minutes  total night calls  total night charge  \\\n",
       "0             0.866743          -0.465494            0.866029   \n",
       "1             1.058571           0.147825            1.059390   \n",
       "2            -0.756869           0.198935           -0.755571   \n",
       "3            -0.078551          -0.567714           -0.078806   \n",
       "4            -0.276311           1.067803           -0.276562   \n",
       "\n",
       "   total intl minutes  total intl calls  total intl charge  \\\n",
       "0           -0.085008         -0.601195          -0.085690   \n",
       "1            1.240482         -0.601195           1.241169   \n",
       "2            0.703121          0.211534           0.697156   \n",
       "3           -1.303026          1.024263          -1.306401   \n",
       "4           -0.049184         -0.601195          -0.045885   \n",
       "\n",
       "   customer service calls  account length  international plan_yes  \\\n",
       "0                0.111111        0.524793                     0.0   \n",
       "1                0.111111        0.438017                     0.0   \n",
       "2                0.000000        0.561983                     0.0   \n",
       "3                0.222222        0.342975                     1.0   \n",
       "4                0.333333        0.305785                     1.0   \n",
       "\n",
       "   voice mail plan_yes  churn  \n",
       "0                  1.0      0  \n",
       "1                  1.0      0  \n",
       "2                  0.0      0  \n",
       "3                  0.0      0  \n",
       "4                  0.0      0  "
      ]
     },
     "execution_count": 33,
     "metadata": {},
     "output_type": "execute_result"
    }
   ],
   "source": [
    "# Using the pandas functions to perform operations\n",
    "\n",
    "transformed_df = pd.concat([gaussian_scaled, ng_scaled, encoded_categorical_df, df['churn']], axis = 1)\n",
    "\n",
    "transformed_df.head()"
   ]
  },
  {
   "cell_type": "markdown",
   "id": "9bbddadd",
   "metadata": {},
   "source": [
    "## DATA MODELLING.\n",
    "\n",
    "* Now that we have transformed the data sets into something passable into a logistic regression model,we can now declare the target and the predictors, split the data, create a base model then evaluate it.\n",
    "\n",
    "* It would also be wise to view the disribution in the target variable before splitting the data.This will help us set a baseline churn rate which can guide us find solutions that reduce the churn rate. This can be through cancelling certain services(features) that contribute to a positive uptick in churns."
   ]
  },
  {
   "cell_type": "code",
   "execution_count": 35,
   "metadata": {},
   "outputs": [
    {
     "data": {
      "text/plain": [
       "0    0.855086\n",
       "1    0.144914\n",
       "Name: churn, dtype: float64"
      ]
     },
     "execution_count": 35,
     "metadata": {},
     "output_type": "execute_result"
    }
   ],
   "source": [
    "# Declaring the variables\n",
    "\n",
    "y = transformed_df['churn']\n",
    "X = transformed_df.drop(columns=['churn'])\n",
    "\n",
    "# Viewing results of the target to see imbalance.\n",
    "\n",
    "y.value_counts(normalize=True)"
   ]
  },
  {
   "cell_type": "markdown",
   "id": "5ee85814",
   "metadata": {},
   "source": [
    "* We can set the baseline true churn rate to about 14.4%\n",
    "\n",
    "* Now we can split the data to prepare it for our baseline model.The test size will be set to 0.25 and with a random state of 42."
   ]
  },
  {
   "cell_type": "code",
   "execution_count": 36,
   "id": "ffb36ad2",
   "metadata": {},
   "outputs": [],
   "source": [
    "# Splitting the data used sklearn.model_selection\n",
    "\n",
    "X_train, X_test, y_train, y_test = train_test_split(X, y, test_size=0.25, random_state=42)\n",
    "\n"
   ]
  },
  {
   "cell_type": "markdown",
   "id": "8d45b3bd",
   "metadata": {},
   "source": [
    "* We then can create our baseline model, for this particular problem, since it is binary we can ise the 'liblinear' solver and set the C to 1e16 to reduce the penalization.Intercept will be set to false."
   ]
  },
  {
   "cell_type": "markdown",
   "id": "c674380d",
   "metadata": {},
   "source": [
    "**Baseline Model**"
   ]
  },
  {
   "cell_type": "code",
   "execution_count": 41,
   "id": "97559b8c",
   "metadata": {},
   "outputs": [
    {
     "name": "stdout",
     "output_type": "stream",
     "text": [
      "              precision    recall  f1-score   support\n",
      "\n",
      "           0       0.88      0.96      0.92       709\n",
      "           1       0.54      0.25      0.34       125\n",
      "\n",
      "    accuracy                           0.86       834\n",
      "   macro avg       0.71      0.61      0.63       834\n",
      "weighted avg       0.83      0.86      0.83       834\n",
      "\n"
     ]
    }
   ],
   "source": [
    "# Instatiating the model\n",
    "logreg = LogisticRegression(C=1e16, solver='liblinear', fit_intercept=False)\n",
    "\n",
    "#Fitting the model\n",
    "baseline_model = logreg.fit(X_train,y_train)\n",
    "\n",
    "# Predicting the model\n",
    "y_pred = logreg.predict(X_test)\n",
    "\n",
    "# Evaluating the model\n",
    "print(classification_report(y_test, y_pred))\n",
    "\n"
   ]
  },
  {
   "cell_type": "code",
   "execution_count": 42,
   "id": "44a38179",
   "metadata": {},
   "outputs": [
    {
     "data": {
      "image/png": "[encoded data removed]",
      "text/plain": [
       "<Figure size 432x288 with 2 Axes>"
      ]
     },
     "metadata": {
      "needs_background": "light"
     },
     "output_type": "display_data"
    },
    {
     "data": {
      "image/png": "[encoded data removed]",
      "text/plain": [
       "<Figure size 432x288 with 1 Axes>"
      ]
     },
     "metadata": {
      "needs_background": "light"
     },
     "output_type": "display_data"
    }
   ],
   "source": [
    "# Using the confusion matrix to evaluate the model\n",
    "cm = confusion_matrix(y_test, y_pred)\n",
    "disp = ConfusionMatrixDisplay(confusion_matrix=cm, display_labels=logreg.classes_)\n",
    "disp.plot(cmap=plt.cm.Blues)\n",
    "plt.title('Baseline Confusion Matrix')\n",
    "plt.show()\n",
    "\n",
    "# Using the ROC curve to evaluate the model\n",
    "fpr, tpr, thresholds = roc_curve(y_test, y_pred)\n",
    "roc_auc = auc(fpr, tpr)\n",
    "plt.figure()\n",
    "plt.plot(fpr, tpr, color='blue', label='ROC curve (area = %0.2f)' % roc_auc)\n",
    "plt.plot([0, 1], [0, 1], color='red', linestyle='--')\n",
    "plt.xlim([0.0, 1.0])\n",
    "plt.ylim([0.0, 1.05])\n",
    "plt.xlabel('False Positive Rate')\n",
    "plt.ylabel('True Positive Rate')\n",
    "plt.title('Receiver Operating Characteristic')\n",
    "plt.legend(loc='lower right')\n",
    "plt.show()"
   ]
  },
  {
   "cell_type": "markdown",
   "id": "e93abcf4",
   "metadata": {},
   "source": [
    "* From the initial analysis its shows that the model performs well in terms of precision, f1-score and recall in determining the ones who do not churn but poorly for the ones that do. This suggests thst the model is imbalanced towards the 'True Negative' side. To rectify this,we can use the `SMOTE` technique from `imblearn` this ensures the data is split into equal targets.\n",
    "\n",
    "* The ROC score is also poor at 0.61 which means other models should be created to improve the score."
   ]
  },
  {
   "cell_type": "markdown",
   "id": "ea76216b",
   "metadata": {},
   "source": [
    "**Oversampling the Minority class**"
   ]
  },
  {
   "cell_type": "code",
   "execution_count": 43,
   "id": "73338aeb",
   "metadata": {},
   "outputs": [
    {
     "data": {
      "text/plain": [
       "1    0.5\n",
       "0    0.5\n",
       "Name: churn, dtype: float64"
      ]
     },
     "execution_count": 43,
     "metadata": {},
     "output_type": "execute_result"
    }
   ],
   "source": [
    "# Using SMOTE to oversample the minority class\n",
    "smote = SMOTE(random_state=42)\n",
    "X_train_resampled, y_train_resampled = smote.fit_resample(X_train, y_train)\n",
    "# Checking the balance of the resampled data\n",
    "y_train_resampled.value_counts(normalize=True)\n"
   ]
  },
  {
   "cell_type": "code",
   "execution_count": 45,
   "id": "3078ca97",
   "metadata": {},
   "outputs": [
    {
     "name": "stdout",
     "output_type": "stream",
     "text": [
      "              precision    recall  f1-score   support\n",
      "\n",
      "           0       0.95      0.75      0.84       709\n",
      "           1       0.36      0.78      0.49       125\n",
      "\n",
      "    accuracy                           0.76       834\n",
      "   macro avg       0.65      0.76      0.66       834\n",
      "weighted avg       0.86      0.76      0.79       834\n",
      "\n"
     ]
    },
    {
     "data": {
      "image/png": "[encoded data removed]",
      "text/plain": [
       "<Figure size 432x288 with 2 Axes>"
      ]
     },
     "metadata": {
      "needs_background": "light"
     },
     "output_type": "display_data"
    },
    {
     "data": {
      "image/png": "[encoded data removed]",
      "text/plain": [
       "<Figure size 432x288 with 1 Axes>"
      ]
     },
     "metadata": {
      "needs_background": "light"
     },
     "output_type": "display_data"
    }
   ],
   "source": [
    "# refitting the model with the resampled data\n",
    "logreg = LogisticRegression(C=1e16, solver='liblinear', fit_intercept=False)\n",
    "\n",
    "# Fitting the model\n",
    "smote_model = logreg.fit(X_train_resampled, y_train_resampled)\n",
    "\n",
    "# Predicting the model\n",
    "y_pred_smote = logreg.predict(X_test)\n",
    "\n",
    "# Evaluating the model\n",
    "print(classification_report(y_test, y_pred_smote))\n",
    "\n",
    "# Using the confusion matrix to evaluate the model\n",
    "cm_smote = confusion_matrix(y_test, y_pred_smote)\n",
    "disp_smote = ConfusionMatrixDisplay(confusion_matrix=cm_smote, display_labels=logreg.classes_)\n",
    "disp_smote.plot(cmap=plt.cm.Blues)\n",
    "plt.title('SMOTE Confusion Matrix')\n",
    "plt.show()\n",
    "\n",
    "# Using the ROC curve to evaluate the model\n",
    "fpr_smote, tpr_smote, thresholds_smote = roc_curve(y_test, y_pred_smote)\n",
    "roc_auc_smote = auc(fpr_smote, tpr_smote)\n",
    "plt.figure()\n",
    "plt.plot(fpr_smote, tpr_smote, color='blue', label='ROC curve (area = %0.2f)' % roc_auc_smote)\n",
    "plt.plot([0, 1], [0, 1], color='red', linestyle='--')\n",
    "plt.xlim([0.0, 1.0])\n",
    "plt.ylim([0.0, 1.05])\n",
    "plt.xlabel('False Positive Rate')\n",
    "plt.ylabel('True Positive Rate')\n",
    "plt.title('Receiver Operating Characteristic (SMOTE)')\n",
    "plt.legend(loc='lower right')\n",
    "plt.show()\n"
   ]
  },
  {
   "cell_type": "markdown",
   "id": "4870ac69",
   "metadata": {},
   "source": [
    "The `SMOTE` model performed better in terms of recall with both having relatively the same values but it is even worse in terms of precision of the true results.Maybe if we can try Undersampling the majority class it may fix this.\n"
   ]
  },
  {
   "cell_type": "markdown",
   "id": "ae2830e4",
   "metadata": {},
   "source": [
    "**Under sampling the Majority class**"
   ]
  },
  {
   "cell_type": "code",
   "execution_count": 46,
   "id": "1b3aecd5",
   "metadata": {},
   "outputs": [
    {
     "name": "stdout",
     "output_type": "stream",
     "text": [
      "              precision    recall  f1-score   support\n",
      "\n",
      "           0       0.95      0.76      0.85       709\n",
      "           1       0.37      0.78      0.50       125\n",
      "\n",
      "    accuracy                           0.76       834\n",
      "   macro avg       0.66      0.77      0.67       834\n",
      "weighted avg       0.86      0.76      0.79       834\n",
      "\n"
     ]
    },
    {
     "data": {
      "image/png": "[encoded data removed]",
      "text/plain": [
       "<Figure size 432x288 with 2 Axes>"
      ]
     },
     "metadata": {
      "needs_background": "light"
     },
     "output_type": "display_data"
    },
    {
     "data": {
      "image/png": "[encoded data removed]",
      "text/plain": [
       "<Figure size 432x288 with 1 Axes>"
      ]
     },
     "metadata": {
      "needs_background": "light"
     },
     "output_type": "display_data"
    }
   ],
   "source": [
    "# Using undersampling to balance the dataset\n",
    "undersampler = RandomUnderSampler(random_state=42)\n",
    "X_train_under, y_train_under = undersampler.fit_resample(X_train, y_train)\n",
    "\n",
    "# Checking the balance of the undersampled data\n",
    "y_train_under.value_counts(normalize=True)\n",
    "\n",
    "# refitting the model with the undersampled data\n",
    "logreg = LogisticRegression(C=1e16, solver='liblinear', fit_intercept=False)\n",
    "\n",
    "# Fitting the model\n",
    "under_model = logreg.fit(X_train_under, y_train_under)\n",
    "\n",
    "# Predicting the model\n",
    "y_pred_under = logreg.predict(X_test)\n",
    "\n",
    "# Evaluating the model\n",
    "print(classification_report(y_test, y_pred_under))\n",
    "\n",
    "# Using the confusion matrix to evaluate the model\n",
    "cm_under = confusion_matrix(y_test, y_pred_under)\n",
    "disp_under = ConfusionMatrixDisplay(confusion_matrix=cm_under, display_labels=logreg.classes_)\n",
    "disp_under.plot(cmap=plt.cm.Blues)\n",
    "plt.title('Undersampling Confusion Matrix')\n",
    "plt.show()\n",
    "\n",
    "# Using the ROC curve to evaluate the model\n",
    "fpr_under, tpr_under, thresholds_under = roc_curve(y_test, y_pred_under)\n",
    "roc_auc_under = auc(fpr_under, tpr_under)\n",
    "plt.figure()\n",
    "plt.plot(fpr_under, tpr_under, color='blue', label='ROC curve (area = %0.2f)' % roc_auc_under)\n",
    "plt.plot([0, 1], [0, 1], color='red', linestyle='--')\n",
    "plt.xlim([0.0, 1.0])\n",
    "plt.ylim([0.0, 1.05])\n",
    "plt.xlabel('False Positive Rate')\n",
    "plt.ylabel('True Positive Rate')\n",
    "plt.title('Receiver Operating Characteristic (Undersampling)')\n",
    "plt.legend(loc='lower right')\n",
    "plt.show()"
   ]
  },
  {
   "cell_type": "markdown",
   "id": "b7b74854",
   "metadata": {},
   "source": [
    "* The `RandomUnderSampler` did not make much of a differnce in the evaluation metrics of precision recall and F1 score. It seems it is 0.01 better in ters of ROC score.\n",
    "\n",
    "* Perhaps we can use different techiques such as cross validation to build a better model."
   ]
  },
  {
   "cell_type": "markdown",
   "id": "4d60ca76",
   "metadata": {},
   "source": [
    "**Logistic Regression with Cross Validation**"
   ]
  },
  {
   "cell_type": "code",
   "execution_count": 47,
   "id": "08c9c86a",
   "metadata": {},
   "outputs": [
    {
     "name": "stdout",
     "output_type": "stream",
     "text": [
      "              precision    recall  f1-score   support\n",
      "\n",
      "           0       0.87      0.98      0.92       709\n",
      "           1       0.66      0.17      0.27       125\n",
      "\n",
      "    accuracy                           0.86       834\n",
      "   macro avg       0.76      0.58      0.60       834\n",
      "weighted avg       0.84      0.86      0.83       834\n",
      "\n"
     ]
    },
    {
     "data": {
      "image/png": "[encoded data removed]",
      "text/plain": [
       "<Figure size 432x288 with 2 Axes>"
      ]
     },
     "metadata": {
      "needs_background": "light"
     },
     "output_type": "display_data"
    },
    {
     "data": {
      "image/png": "[encoded data removed]",
      "text/plain": [
       "<Figure size 432x288 with 1 Axes>"
      ]
     },
     "metadata": {
      "needs_background": "light"
     },
     "output_type": "display_data"
    }
   ],
   "source": [
    "# Using Logistic Regression with Cross Validation\n",
    "logreg_cv = LogisticRegressionCV(cv=5, random_state=42, max_iter=1000)\n",
    "logreg_cv.fit(X_train, y_train)\n",
    "y_pred_cv = logreg_cv.predict(X_test)\n",
    "\n",
    "# Evaluating the model\n",
    "print(classification_report(y_test, y_pred_cv))\n",
    "\n",
    "# Using the confusion matrix to evaluate the model\n",
    "cm_cv = confusion_matrix(y_test, y_pred_cv)\n",
    "disp_cv = ConfusionMatrixDisplay(confusion_matrix=cm_cv, display_labels=logreg_cv.classes_)\n",
    "disp_cv.plot(cmap=plt.cm.Blues)\n",
    "plt.title('Logistic Regression with Cross Validation Confusion Matrix')\n",
    "plt.show()\n",
    "\n",
    "# Using the ROC curve to evaluate the model\n",
    "fpr_cv, tpr_cv, thresholds_cv = roc_curve(y_test, y_pred_cv)\n",
    "roc_auc_cv = auc(fpr_cv, tpr_cv)\n",
    "plt.figure()\n",
    "plt.plot(fpr_cv, tpr_cv, color='blue', label='ROC curve (area = %0.2f)' % roc_auc_cv)\n",
    "plt.plot([0, 1], [0, 1], color='red', linestyle='--')\n",
    "plt.xlim([0.0, 1.0])\n",
    "plt.ylim([0.0, 1.05])\n",
    "plt.xlabel('False Positive Rate')\n",
    "plt.ylabel('True Positive Rate')\n",
    "plt.title('Receiver Operating Characteristic (Logistic Regression with CV)')\n",
    "plt.legend(loc='lower right')\n",
    "plt.show()\n"
   ]
  },
  {
   "cell_type": "markdown",
   "id": "d073e972",
   "metadata": {},
   "source": [
    "* The model did much better in terms of precision with an improvement to 0.66 from 0.37 however, the recall suffered and went back to 0.17 from an impressive 0.78.The F1 score also suffered as a result.If can try to combine the models(smote and cross validation) perhaps we can attain better results."
   ]
  },
  {
   "cell_type": "markdown",
   "id": "f8424ac4",
   "metadata": {},
   "source": [
    "**Logistic Regression with cross validation with SMOTE**"
   ]
  },
  {
   "cell_type": "code",
   "execution_count": 48,
   "id": "a6739dcb",
   "metadata": {},
   "outputs": [
    {
     "name": "stdout",
     "output_type": "stream",
     "text": [
      "              precision    recall  f1-score   support\n",
      "\n",
      "           0       0.95      0.78      0.86       709\n",
      "           1       0.39      0.78      0.52       125\n",
      "\n",
      "    accuracy                           0.78       834\n",
      "   macro avg       0.67      0.78      0.69       834\n",
      "weighted avg       0.87      0.78      0.81       834\n",
      "\n"
     ]
    },
    {
     "data": {
      "image/png": "[encoded data removed]",
      "text/plain": [
       "<Figure size 432x288 with 2 Axes>"
      ]
     },
     "metadata": {
      "needs_background": "light"
     },
     "output_type": "display_data"
    },
    {
     "data": {
      "image/png": "[encoded data removed]",
      "text/plain": [
       "<Figure size 432x288 with 1 Axes>"
      ]
     },
     "metadata": {
      "needs_background": "light"
     },
     "output_type": "display_data"
    }
   ],
   "source": [
    "# Combining Logistic Regression with SMOTE and Cross Validation\n",
    "logreg_smote_cv = LogisticRegressionCV(cv=5, random_state=42, max_iter=1000)\n",
    "logreg_smote_cv.fit(X_train_resampled, y_train_resampled)\n",
    "y_pred_smote_cv = logreg_smote_cv.predict(X_test)\n",
    "\n",
    "# Evaluating the model\n",
    "print(classification_report(y_test, y_pred_smote_cv))\n",
    "\n",
    "# Using the confusion matrix to evaluate the model\n",
    "cm_smote_cv = confusion_matrix(y_test, y_pred_smote_cv)\n",
    "disp_smote_cv = ConfusionMatrixDisplay(confusion_matrix=cm_smote_cv, display_labels=logreg_smote_cv.classes_)\n",
    "disp_smote_cv.plot(cmap=plt.cm.Blues)\n",
    "plt.title('Logistic Regression with SMOTE and CV Confusion Matrix')\n",
    "plt.show()\n",
    "\n",
    "# Using the ROC curve to evaluate the model\n",
    "fpr_smote_cv, tpr_smote_cv, thresholds_smote_cv = roc_curve(y_test, y_pred_smote_cv)\n",
    "roc_auc_smote_cv = auc(fpr_smote_cv, tpr_smote_cv)\n",
    "plt.figure()\n",
    "plt.plot(fpr_smote_cv, tpr_smote_cv, color='blue', label='ROC curve (area = %0.2f)' % roc_auc_smote_cv)\n",
    "plt.plot([0, 1], [0, 1], color='red', linestyle='--')\n",
    "plt.xlim([0.0, 1.0])\n",
    "plt.ylim([0.0, 1.05])\n",
    "plt.xlabel('False Positive Rate')\n",
    "plt.ylabel('True Positive Rate')\n",
    "plt.title('Receiver Operating Characteristic (Logistic Regression with SMOTE and CV)')\n",
    "plt.legend(loc='lower right')\n",
    "plt.show()"
   ]
  },
  {
   "cell_type": "markdown",
   "id": "ab9f578f",
   "metadata": {},
   "source": [
    "* The model is better in terms of recall with Oversampling performed however the precision for the churn rate is still poor.The F1 score however seems to improve.\n",
    "\n",
    "* Perhaps it is maybe a case of selecting features that may improve the model.For this we can use the `RFECV` technique that would select the best features that suit the model."
   ]
  },
  {
   "cell_type": "markdown",
   "id": "8a3dfb0c",
   "metadata": {},
   "source": [
    "**Logistic Regression with RFE Cross Validation**"
   ]
  },
  {
   "cell_type": "code",
   "execution_count": 52,
   "id": "8a4b29c3",
   "metadata": {},
   "outputs": [
    {
     "name": "stdout",
     "output_type": "stream",
     "text": [
      "Selected features: Index(['number vmail messages', 'total day minutes', 'total day charge',\n",
      "       'total eve minutes', 'total eve charge', 'total night minutes',\n",
      "       'total night charge', 'total intl minutes', 'total intl charge',\n",
      "       'voice mail plan_yes'],\n",
      "      dtype='object')\n",
      "              precision    recall  f1-score   support\n",
      "\n",
      "           0       0.85      0.99      0.92       709\n",
      "           1       0.36      0.03      0.06       125\n",
      "\n",
      "    accuracy                           0.85       834\n",
      "   macro avg       0.61      0.51      0.49       834\n",
      "weighted avg       0.78      0.85      0.79       834\n",
      "\n"
     ]
    },
    {
     "data": {
      "image/png": "[encoded data removed]",
      "text/plain": [
       "<Figure size 432x288 with 2 Axes>"
      ]
     },
     "metadata": {
      "needs_background": "light"
     },
     "output_type": "display_data"
    },
    {
     "data": {
      "image/png": "[encoded data removed]",
      "text/plain": [
       "<Figure size 432x288 with 1 Axes>"
      ]
     },
     "metadata": {
      "needs_background": "light"
     },
     "output_type": "display_data"
    }
   ],
   "source": [
    "# Using RFECV to select the best features and number of features\n",
    "logreg_rfe = LogisticRegression(C=1e16, solver='liblinear', fit_intercept=False)\n",
    "rfe = RFECV(estimator=logreg_rfe, step=1, cv=5)\n",
    "rfe.fit(X_train, y_train)\n",
    "selected_features = X_train.columns[rfe.support_]\n",
    "print(\"Selected features:\", selected_features)\n",
    "\n",
    "# Fitting the model with the selected features\n",
    "logreg_rfe.fit(X_train[selected_features], y_train)\n",
    "y_pred_rfe = logreg_rfe.predict(X_test[selected_features])\n",
    "\n",
    "# Evaluating the model\n",
    "print(classification_report(y_test, y_pred_rfe))\n",
    "\n",
    "# Using the confusion matrix to evaluate the model\n",
    "cm_rfe = confusion_matrix(y_test, y_pred_rfe)\n",
    "disp_rfe = ConfusionMatrixDisplay(confusion_matrix=cm_rfe, display_labels=logreg_rfe.classes_)\n",
    "disp_rfe.plot(cmap=plt.cm.Blues)\n",
    "plt.title('Logistic Regression with RFE Confusion Matrix')\n",
    "plt.show()\n",
    "\n",
    "# Using the ROC curve to evaluate the model\n",
    "fpr_rfe, tpr_rfe, thresholds_rfe = roc_curve(y_test, y_pred_rfe)\n",
    "roc_auc_rfe = auc(fpr_rfe, tpr_rfe)\n",
    "plt.figure()\n",
    "plt.plot(fpr_rfe, tpr_rfe, color='blue', label='ROC curve (area = %0.2f)' % roc_auc_rfe)\n",
    "plt.plot([0, 1], [0, 1], color='red', linestyle='--')\n",
    "plt.xlim([0.0, 1.0])\n",
    "plt.ylim([0.0, 1.05])\n",
    "plt.xlabel('False Positive Rate')\n",
    "plt.ylabel('True Positive Rate')\n",
    "plt.title('Receiver Operating Characteristic (Logistic Regression with RFE)')\n",
    "plt.legend(loc='lower right')\n",
    "plt.show()\n",
    "  "
   ]
  },
  {
   "cell_type": "code",
   "execution_count": null,
   "id": "a3b80843",
   "metadata": {},
   "outputs": [],
   "source": []
  }
 ],
 "metadata": {
  "kernelspec": {
   "display_name": "learn-env",
   "language": "python",
   "name": "python3"
  },
  "language_info": {
   "codemirror_mode": {
    "name": "ipython",
    "version": 3
   },
   "file_extension": ".py",
   "mimetype": "text/x-python",
   "name": "python",
   "nbconvert_exporter": "python",
   "pygments_lexer": "ipython3",
   "version": "3.8.5"
  }
 },
 "nbformat": 4,
 "nbformat_minor": 5
}
